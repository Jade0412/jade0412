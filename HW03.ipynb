{
 "cells": [
  {
   "cell_type": "markdown",
   "metadata": {},
   "source": [
    "### Q1"
   ]
  },
  {
   "cell_type": "markdown",
   "metadata": {},
   "source": [
    "It is necessary to calculate the distances from every sample $x$ to every class $k$.\n",
    "\n",
    "Suppose there are $N$ sample $x$ and $K$ class $k$, the number of the distance values that we need to collect is $N \\times K$."
   ]
  },
  {
   "cell_type": "markdown",
   "metadata": {},
   "source": [
    "### Q2"
   ]
  },
  {
   "cell_type": "markdown",
   "metadata": {},
   "source": [
    "Covariance = $ COV(X,Y) = E[(X-EX)(Y-EY)] $\n",
    "\n",
    "Correlation = $\\frac {COV(X,Y)}{\\sigma_x\\sigma_y} $\n",
    "\n",
    "In a covariance matrix, the values in the diagonal are the variances."
   ]
  },
  {
   "cell_type": "code",
   "execution_count": 20,
   "metadata": {},
   "outputs": [
    {
     "data": {
      "text/plain": [
       "array([[ 1.        , -0.10179732,  0.01923789],\n",
       "       [-0.10179732,  1.        , -0.75592895],\n",
       "       [ 0.01923789, -0.75592895,  1.        ]])"
      ]
     },
     "execution_count": 20,
     "metadata": {},
     "output_type": "execute_result"
    }
   ],
   "source": [
    "import numpy as np\n",
    "C = np.array([[3.8600, -0.0200, 0.0100],[ -0.0200, 0.0100, -0.0200],[0.0100, -0.0200, 0.0700]])\n",
    "\n",
    "#calculate the standard variance matrix\n",
    "e = np.eye(len(C))\n",
    "S = e*C\n",
    "sqrt_S = np.power(S, 0.5)\n",
    "S_inv = np.linalg.inv(sqrt_S)\n",
    "R = S_inv.dot(C).dot(S_inv)\n",
    "R"
   ]
  },
  {
   "cell_type": "markdown",
   "metadata": {},
   "source": [
    "### Q3"
   ]
  },
  {
   "cell_type": "code",
   "execution_count": null,
   "metadata": {},
   "outputs": [],
   "source": [
    "import numpy as np\n",
    "import pandas\n",
    "import os\n",
    "from scipy.stats import multivariate_normal\n",
    "breast_train = pandas.read_csv('BreastCancerTrain.csv',header=None)\n",
    "breast_test = pandas.read_csv('BreastCancerValidation.csv',header=None)\n",
    "\n",
    "breast_train.columns = ['1','2','3','4','5','6','7','8','9','10']\n",
    "breast_test.columns = ['1','2','3','4','5','6','7','8','9','10']"
   ]
  },
  {
   "cell_type": "code",
   "execution_count": 43,
   "metadata": {
    "scrolled": true
   },
   "outputs": [],
   "source": [
    "pos_data = breast_train[breast_train['10']==1]\n",
    "neg_data = breast_train[breast_train['10']==0]\n",
    "pos_data1 = pos_data.iloc[:,:9]\n",
    "neg_data1 = neg_data.iloc[:,:9]\n",
    "\n",
    "mu1 = pos_data1.mean() \n",
    "mu2 = neg_data1.mean()\n",
    "\n",
    "S1 = pos_data1.cov() \n",
    "S2 = neg_data1.cov()\n",
    "\n",
    "norm1 = multivariate_normal(mu1, S1)\n",
    "norm2 = multivariate_normal(mu2, S2)\n",
    "\n",
    "P1 = len(pos_data1)/(len(pos_data1)+len(neg_data1)) \n",
    "P2 = len(neg_data1)/(len(pos_data1)+len(neg_data1))\n",
    "\n",
    "breast_train_X = breast_train.drop(['10'], axis=1)\n",
    "\n",
    "pdf1_x = norm1.pdf(breast_train_X)*P1 \n",
    "pdf2_x = norm2.pdf(breast_train_X)*P2 \n",
    "\n",
    "post1 = pdf1_x/(pdf1_x + pdf2_x) \n",
    "post2 = pdf2_x/(pdf1_x + pdf2_x)\n",
    "\n",
    "pred_train = post1>post2\n",
    "\n",
    "labels = breast_train['10'] \n",
    "labels[labels==1] = True \n",
    "labels[labels==0] = False"
   ]
  },
  {
   "cell_type": "code",
   "execution_count": 44,
   "metadata": {},
   "outputs": [
    {
     "data": {
      "text/plain": [
       "96.82997118155619"
      ]
     },
     "execution_count": 44,
     "metadata": {},
     "output_type": "execute_result"
    }
   ],
   "source": [
    "#Training Error\n",
    "(sum((labels == pred_train))/len(pred_train))*100"
   ]
  },
  {
   "cell_type": "code",
   "execution_count": 45,
   "metadata": {},
   "outputs": [],
   "source": [
    "pos_data = breast_test[breast_test['10']==1]\n",
    "neg_data = breast_test[breast_test['10']==0]\n",
    "pos_data1 = pos_data.iloc[:,:9]\n",
    "neg_data1 = neg_data.iloc[:,:9]\n",
    "\n",
    "mu1 = pos_data1.mean() \n",
    "mu2 = neg_data1.mean()\n",
    "\n",
    "S1 = pos_data1.cov() \n",
    "S2 = neg_data1.cov()\n",
    "\n",
    "norm1 = multivariate_normal(mu1, S1)\n",
    "norm2 = multivariate_normal(mu2, S2)\n",
    "\n",
    "P1 = len(pos_data1)/(len(pos_data1)+len(neg_data1)) \n",
    "P2 = len(neg_data1)/(len(pos_data1)+len(neg_data1))\n",
    "\n",
    "breast_test_X = breast_test.drop(['10'], axis=1) \n",
    "\n",
    "pdf1_x = norm1.pdf(breast_test_X)*P1 \n",
    "pdf2_x = norm2.pdf(breast_test_X)*P2 \n",
    "\n",
    "post1 = pdf1_x/(pdf1_x + pdf2_x) \n",
    "post2 = pdf2_x/(pdf1_x + pdf2_x)\n",
    "\n",
    "pred_test = post1>post2\n",
    "\n",
    "labels = breast_test['10'] \n",
    "labels[labels==1] = True \n",
    "labels[labels==0] = False"
   ]
  },
  {
   "cell_type": "code",
   "execution_count": 46,
   "metadata": {},
   "outputs": [
    {
     "data": {
      "text/plain": [
       "94.64285714285714"
      ]
     },
     "execution_count": 46,
     "metadata": {},
     "output_type": "execute_result"
    }
   ],
   "source": [
    "# Test Error\n",
    "(sum((labels == pred_test))/len(pred_test))*100"
   ]
  },
  {
   "cell_type": "markdown",
   "metadata": {},
   "source": [
    "The Training Error is 96.8300; The validation Error is 94.6429."
   ]
  },
  {
   "cell_type": "markdown",
   "metadata": {},
   "source": [
    "### Q4"
   ]
  },
  {
   "cell_type": "code",
   "execution_count": 18,
   "metadata": {},
   "outputs": [
    {
     "name": "stdout",
     "output_type": "stream",
     "text": [
      "Coefficients [ 0.         -0.25697386  0.05128251  1.14226452  0.13806308  0.8996328 ]\n"
     ]
    }
   ],
   "source": [
    "import numpy as np\n",
    "import pandas\n",
    "import matplotlib.pyplot as plt\n",
    "from sklearn.preprocessing import PolynomialFeatures\n",
    "from sklearn import linear_model\n",
    "reg2d = pandas.read_csv('reg2d.csv',header=None)\n",
    "x = reg2d.iloc[:,:2]\n",
    "y = reg2d.iloc[:,-1]\n",
    "poly = PolynomialFeatures(degree = 2) \n",
    "X_poly = poly.fit_transform(x) \n",
    "poly.fit(X_poly, y) \n",
    "lin1 = linear_model.LinearRegression() \n",
    "fit1 = lin1.fit(X_poly, y)\n",
    "print('Coefficients', lin1.coef_)"
   ]
  },
  {
   "cell_type": "markdown",
   "metadata": {},
   "source": [
    "### Q5"
   ]
  },
  {
   "cell_type": "markdown",
   "metadata": {},
   "source": [
    "For each Gaussian we have:\n",
    "    \n",
    "a. A $D \\times D$ diagonal covariance matrix, which has $D$ parameters. $D$ is the number of diagonal elements in the matrix.\n",
    "\n",
    "b.A mean vaector of $D$ dimensional has $D$ parameters\n",
    "\n",
    "c.A weight value has 1 parameter(likelihood $p(x|\\theta)$)\n",
    "\n",
    "As a result, each Gaussian has $D + D + 1 = 2D + 1$ parameters.\n",
    "\n",
    "In this question, there are 3 components in each mixture model and 9 features in the dataset. So for each mixture model, we have $ 3\\times(2 \\times D + 1)$ parameters.\n",
    "\n",
    "Due to the sum of the mixing weights must be 1, so if there are k weight values, we only need (k-1) parameters to represent the total weight value. \n",
    "\n",
    "In this way, the total number of model parameters is more than 56 parameters."
   ]
  },
  {
   "cell_type": "code",
   "execution_count": null,
   "metadata": {},
   "outputs": [],
   "source": []
  }
 ],
 "metadata": {
  "kernelspec": {
   "display_name": "Python 3",
   "language": "python",
   "name": "python3"
  },
  "language_info": {
   "codemirror_mode": {
    "name": "ipython",
    "version": 3
   },
   "file_extension": ".py",
   "mimetype": "text/x-python",
   "name": "python",
   "nbconvert_exporter": "python",
   "pygments_lexer": "ipython3",
   "version": "3.7.3"
  }
 },
 "nbformat": 4,
 "nbformat_minor": 2
}
