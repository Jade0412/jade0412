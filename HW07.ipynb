{
 "cells": [
  {
   "cell_type": "code",
   "execution_count": 40,
   "metadata": {},
   "outputs": [
    {
     "name": "stdout",
     "output_type": "stream",
     "text": [
      "[[1. 0. 0. 0. 1.]\n",
      " [1. 1. 1. 1. 1.]\n",
      " [1. 0. 0. 0. 1.]\n",
      " [1. 0. 0. 0. 1.]]\n"
     ]
    },
    {
     "data": {
      "text/plain": [
       "0"
      ]
     },
     "execution_count": 40,
     "metadata": {},
     "output_type": "execute_result"
    }
   ],
   "source": [
    "import numpy as np\n",
    " \n",
    "K1 = np.array([[1],\n",
    "             [-1]])\n",
    "\n",
    "H1 = np.array([\n",
    "       [1,0,0,0,1],\n",
    "       [1,0,0,0,1],\n",
    "       [1,1,1,1,1],\n",
    "       [1,0,0,0,1],\n",
    "       [1,0,0,0,1]])\n",
    " \n",
    "def cov2(inputs,kernel,stride):\n",
    "    inw,inh = inputs.shape\n",
    "    w,h=kernel.shape\n",
    "    outw = int((inw - w)/stride + 1)\n",
    "    outh = int((inh - h)/stride + 1)\n",
    "    arr = np.zeros(shape=(outw, outh))\n",
    "    for g in range(outw):\n",
    "        for t in range(outh):\n",
    "            s = 0\n",
    "            for i in range(w):\n",
    "                for j in range(h):\n",
    "                    s+=inputs[i+g*strde][j+t*strde]*f[i][j]\n",
    "            arr[g][t]=s\n",
    "    print(arr)\n",
    "    return 0\n",
    " \n",
    "cov2(H1,K1,1)"
   ]
  },
  {
   "cell_type": "code",
   "execution_count": 61,
   "metadata": {},
   "outputs": [
    {
     "name": "stdout",
     "output_type": "stream",
     "text": [
      "[[0. 1. 0. 2.]\n",
      " [1. 0. 2. 0.]\n",
      " [0. 2. 0. 1.]\n",
      " [2. 0. 1. 0.]]\n"
     ]
    },
    {
     "data": {
      "text/plain": [
       "0"
      ]
     },
     "execution_count": 61,
     "metadata": {},
     "output_type": "execute_result"
    }
   ],
   "source": [
    "import numpy as np\n",
    " \n",
    "K2 = np.array([[0,1],\n",
    "             [1,0]])\n",
    "\n",
    "\n",
    "X1 = np.array([\n",
    "       [1,0,0,0,1],\n",
    "       [0,1,0,1,0],\n",
    "       [0,0,1,0,0],\n",
    "       [0,1,0,1,0],\n",
    "       [1,0,0,0,1]])\n",
    " \n",
    "def cov2(inputs,kernel,stride):\n",
    "    inw,inh = inputs.shape\n",
    "    w,h=kernel.shape\n",
    "    outw = int((inw - w)/stride + 1)\n",
    "    outh = int((inh - h)/stride + 1)\n",
    "    arr = np.zeros(shape=(outw, outh))\n",
    "    for g in range(outw):\n",
    "        for t in range(outh):\n",
    "            s = 0\n",
    "            for i in range(w):\n",
    "                for j in range(h):\n",
    "                    s+=inputs[i+g*stride][j+t*stride]*f[i][j]\n",
    "            arr[g][t]=s\n",
    "    print(arr)\n",
    "    return 0\n",
    " \n",
    "cov2(X1,K2,1)"
   ]
  },
  {
   "cell_type": "code",
   "execution_count": 42,
   "metadata": {},
   "outputs": [
    {
     "name": "stdout",
     "output_type": "stream",
     "text": [
      "[[0. 0. 0.]\n",
      " [0. 0. 0.]\n",
      " [0. 0. 0.]]\n"
     ]
    },
    {
     "data": {
      "text/plain": [
       "0"
      ]
     },
     "execution_count": 42,
     "metadata": {},
     "output_type": "execute_result"
    }
   ],
   "source": [
    "X1 = np.array([\n",
    "       [1,0,0,0,1],\n",
    "       [0,1,0,1,0],\n",
    "       [0,0,1,0,0],\n",
    "       [0,1,0,1,0],\n",
    "       [1,0,0,0,1]])\n",
    " \n",
    "X1_2d = np.pad(array=X1, pad_width=((0,1),(0,1)), mode='constant', constant_values=0)\n",
    "\n",
    "K2 = np.array([[0,1],\n",
    "             [1,0]])\n",
    "\n",
    " \n",
    "def cov2(inputs,kernel,stride):\n",
    "    inw,inh = inputs.shape\n",
    "    w,h=kernel.shape\n",
    "    outw = int((inw - w)/stride + 1)\n",
    "    outh = int((inh - h)/stride + 1)\n",
    "    arr = np.zeros(shape=(outw, outh))\n",
    "    for g in range(outw):\n",
    "        for t in range(outh):\n",
    "            s = 0\n",
    "            for i in range(w):\n",
    "                for j in range(h):\n",
    "                    s+=inputs[i+g*stride][j+t*stride]*f[i][j]\n",
    "            arr[g][t]=s\n",
    "    print(arr)\n",
    "    return 0\n",
    " \n",
    "cov2(X1_2d,K2,2)"
   ]
  },
  {
   "cell_type": "code",
   "execution_count": 51,
   "metadata": {},
   "outputs": [
    {
     "data": {
      "text/plain": [
       "array([[0.55555556, 0.44444444],\n",
       "       [0.22222222, 0.22222222]])"
      ]
     },
     "execution_count": 51,
     "metadata": {},
     "output_type": "execute_result"
    }
   ],
   "source": [
    "import skimage.measure\n",
    "skimage.measure.block_reduce(H1,(3,3), np.mean)"
   ]
  },
  {
   "cell_type": "code",
   "execution_count": 72,
   "metadata": {},
   "outputs": [
    {
     "data": {
      "text/plain": [
       "array([[0.55555556, 0.44444444],\n",
       "       [0.22222222, 0.22222222]])"
      ]
     },
     "execution_count": 72,
     "metadata": {},
     "output_type": "execute_result"
    }
   ],
   "source": [
    "def pooling(inputMap,poolSize=3,poolStride=1,mode='mean'):\n",
    "    \"\"\"INPUTS:\n",
    "              inputMap - input array of the pooling layer\n",
    "              poolSize - X-size(equivalent to Y-size) of receptive field\n",
    "              poolStride - the stride size between successive pooling squares\n",
    "       \n",
    "       OUTPUTS:\n",
    "               outputMap - output array of the pooling layer\n",
    "    \"\"\"\n",
    "    # inputMap sizes\n",
    "    in_row,in_col = np.shape(inputMap)\n",
    "    \n",
    "    # outputMap sizes\n",
    "    out_row,out_col = int(np.floor(in_row/poolSize)),int(np.floor(in_col/poolSize))\n",
    "    row_remainder,col_remainder = np.mod(in_row,poolSize),np.mod(in_col,poolSize)\n",
    "    if row_remainder != 0:\n",
    "        out_row +=1\n",
    "    if col_remainder != 0:\n",
    "        out_col +=1\n",
    "    outputMap = np.zeros((out_row,out_col))\n",
    "    \n",
    "    # padding\n",
    "    temp_map = np.lib.pad(H1, ((0,3-row_remainder),(0,3-col_remainder)),  mode='constant', constant_values=0)\n",
    "    \n",
    "    # mean pooling\n",
    "    for r_idx in range(0,out_row):\n",
    "        for c_idx in range(0,out_col):\n",
    "            startX = c_idx * poolSize\n",
    "            startY = r_idx * poolSize\n",
    "            poolField = temp_map[startY:startY + poolSize, startX:startX + poolSize]\n",
    "            poolOut = np.mean(poolField)\n",
    "            outputMap[r_idx,c_idx] = poolOut\n",
    "    \n",
    "    # retrun outputMap\n",
    "    return  outputMap\n",
    "\n",
    "pooling(H1,poolSize=3,poolStride=1,mode='mean')"
   ]
  },
  {
   "cell_type": "code",
   "execution_count": 83,
   "metadata": {},
   "outputs": [
    {
     "data": {
      "text/plain": [
       "array([[0.55555556, 0.33333333, 0.55555556],\n",
       "       [0.55555556, 0.33333333, 0.55555556],\n",
       "       [0.55555556, 0.33333333, 0.55555556]])"
      ]
     },
     "execution_count": 83,
     "metadata": {},
     "output_type": "execute_result"
    }
   ],
   "source": [
    "def avg_pooling(z, pooling = (3, 3), strides=(1, 1), padding=(0, 0)):\n",
    "\n",
    "    H, W = z.shape\n",
    "    # zero padding\n",
    "    padding_z = np.lib.pad(z, ((padding[0], padding[0]), (padding[1], padding[1])), mode = 'constant',constant_values=0)\n",
    "\n",
    "    # the height and width of the output\n",
    "    out_h = (H - pooling[0]) // strides[0] + 1\n",
    "    out_w = (W - pooling[1]) // strides[1] + 1\n",
    "\n",
    "    pool_z = np.zeros((out_h, out_w))\n",
    "\n",
    "    for i in np.arange(out_h):\n",
    "        for j in np.arange(out_w):\n",
    "            pool_z[i, j] = np.mean(padding_z[strides[0] * i:strides[0] * i + pooling[0],strides[1] * j:strides[1] * j + pooling[1]])\n",
    "    return pool_z\n",
    "\n",
    "avg_pooling(H1, pooling, strides=(1, 1), padding=(0, 0))"
   ]
  },
  {
   "cell_type": "code",
   "execution_count": 81,
   "metadata": {},
   "outputs": [
    {
     "data": {
      "text/plain": [
       "3"
      ]
     },
     "execution_count": 81,
     "metadata": {},
     "output_type": "execute_result"
    }
   ],
   "source": [
    "pooling = (3, 3)\n",
    "strides=(1, 1)\n",
    "H, W = H1.shape\n",
    "out_h = (H - pooling[0]) // strides[0] + 1\n",
    "out_w = (W - pooling[1]) // strides[1] + 1\n",
    "out_h"
   ]
  },
  {
   "cell_type": "code",
   "execution_count": null,
   "metadata": {},
   "outputs": [],
   "source": []
  }
 ],
 "metadata": {
  "kernelspec": {
   "display_name": "Python 3",
   "language": "python",
   "name": "python3"
  },
  "language_info": {
   "codemirror_mode": {
    "name": "ipython",
    "version": 3
   },
   "file_extension": ".py",
   "mimetype": "text/x-python",
   "name": "python",
   "nbconvert_exporter": "python",
   "pygments_lexer": "ipython3",
   "version": "3.7.3"
  }
 },
 "nbformat": 4,
 "nbformat_minor": 2
}
